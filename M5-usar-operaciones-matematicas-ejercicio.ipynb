{
 "cells": [
  {
   "cell_type": "markdown",
   "metadata": {},
   "source": [
    "## Operadores Aritméticos"
   ]
  },
  {
   "cell_type": "code",
   "execution_count": 5,
   "metadata": {},
   "outputs": [
    {
     "name": "stdout",
     "output_type": "stream",
     "text": [
      "La distancia en KM es -628949330\n"
     ]
    }
   ],
   "source": [
    "tierra = 149597870\n",
    "jupiter = 778547200\n",
    "distancia = tierra - jupiter\n",
    "print('La distancia en KM es', distancia)"
   ]
  },
  {
   "cell_type": "code",
   "execution_count": 6,
   "metadata": {},
   "outputs": [
    {
     "name": "stdout",
     "output_type": "stream",
     "text": [
      "La distancia en MI es -390577533.93\n"
     ]
    }
   ],
   "source": [
    "millas = distancia * 0.621\n",
    "print('La distancia en MI es', millas)"
   ]
  },
  {
   "cell_type": "markdown",
   "metadata": {},
   "source": [
    "## Convierte cadenas en npumeros y usa valores absolutos"
   ]
  },
  {
   "cell_type": "code",
   "execution_count": 15,
   "metadata": {},
   "outputs": [
    {
     "name": "stdout",
     "output_type": "stream",
     "text": [
      "867474\n",
      "78695986\n",
      "-77828512\n",
      "-48331505.952\n",
      "48331505.952\n"
     ]
    }
   ],
   "source": [
    "planeta_1 = input('Introduzca la distancia de su primer planeta')\n",
    "planeta_2 = input('Introduzca la distancia de su segundo planeta')\n",
    "\n",
    "planeta_1 = int(planeta_1)\n",
    "planeta_2 = int(planeta_2)\n",
    "\n",
    "print(planeta_1)\n",
    "print(planeta_2)\n",
    "\n",
    "distancias_km = planeta_1 - planeta_2\n",
    "\n",
    "print(distancias_km)\n",
    "\n",
    "distancias_mi = distancias_km * 0.621\n",
    "\n",
    "print(distancias_mi)\n",
    "print(abs(distancias_mi))"
   ]
  }
 ],
 "metadata": {
  "interpreter": {
   "hash": "229091e6d413d8abaae29bf1214a033623ca0d6c36f8bb9b7278440d35bd967d"
  },
  "kernelspec": {
   "display_name": "Python 3.10.2 64-bit (windows store)",
   "language": "python",
   "name": "python3"
  },
  "language_info": {
   "codemirror_mode": {
    "name": "ipython",
    "version": 3
   },
   "file_extension": ".py",
   "mimetype": "text/x-python",
   "name": "python",
   "nbconvert_exporter": "python",
   "pygments_lexer": "ipython3",
   "version": "3.10.2"
  },
  "orig_nbformat": 4
 },
 "nbformat": 4,
 "nbformat_minor": 2
}
