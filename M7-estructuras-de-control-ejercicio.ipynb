{
 "cells": [
  {
   "cell_type": "markdown",
   "metadata": {},
   "source": [
    "## Creación de un bucle \"While\". Ejercicio 1."
   ]
  },
  {
   "cell_type": "code",
   "execution_count": 5,
   "metadata": {},
   "outputs": [
    {
     "name": "stdout",
     "output_type": "stream",
     "text": [
      "['Marte', 'Urano', 'Neptuno', 'Tierra', 'saturno, jupiter, kepler', 'luna', 'sol']\n"
     ]
    }
   ],
   "source": [
    "new_planet = input('Ingrese los planetas del Sistema Solar [exepto Marte, Urano, Neptuno y Tierra]')\n",
    "planets = ['Marte', 'Urano', 'Neptuno', 'Tierra']\n",
    "\n",
    "while new_planet.lower() != 'done':\n",
    "    if new_planet:\n",
    "        planets.append(new_planet)\n",
    "    new_planet = input('Ingrese nuevo planeta')\n",
    "\n",
    "print(planets)"
   ]
  },
  {
   "cell_type": "markdown",
   "metadata": {},
   "source": [
    "## Creación de ciclo \"For\". Ejercicio 2."
   ]
  },
  {
   "cell_type": "code",
   "execution_count": 7,
   "metadata": {},
   "outputs": [
    {
     "name": "stdout",
     "output_type": "stream",
     "text": [
      "🪐 Marte\n",
      "🪐 Urano\n",
      "🪐 Neptuno\n",
      "🪐 Tierra\n",
      "🪐 saturno, jupiter, kepler\n",
      "🪐 luna\n",
      "🪐 sol\n",
      "¡Completaste el Sistema Solar! 🌌\n"
     ]
    }
   ],
   "source": [
    "for planet in planets:\n",
    "    print('🪐', planet)\n",
    "print('¡Completaste el Sistema Solar! 🌌')"
   ]
  }
 ],
 "metadata": {
  "interpreter": {
   "hash": "dc87c7906388df039180427905fc6565294b18b940d6a43ded049253c566ce20"
  },
  "kernelspec": {
   "display_name": "Python 3.10.2 64-bit",
   "language": "python",
   "name": "python3"
  },
  "language_info": {
   "codemirror_mode": {
    "name": "ipython",
    "version": 3
   },
   "file_extension": ".py",
   "mimetype": "text/x-python",
   "name": "python",
   "nbconvert_exporter": "python",
   "pygments_lexer": "ipython3",
   "version": "3.10.2"
  },
  "orig_nbformat": 4
 },
 "nbformat": 4,
 "nbformat_minor": 2
}
