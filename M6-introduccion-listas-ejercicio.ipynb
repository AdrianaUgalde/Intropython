{
 "cells": [
  {
   "cell_type": "markdown",
   "metadata": {},
   "source": [
    "## Crear y usar listas de python. Ejercicio 1"
   ]
  },
  {
   "cell_type": "code",
   "execution_count": 50,
   "metadata": {},
   "outputs": [
    {
     "name": "stdout",
     "output_type": "stream",
     "text": [
      "['Marte', 'Mercurio', 'Jupiter', 'Saturno', 'Neptuno', 'Tierra', 'Venus', 'Urano']\n"
     ]
    }
   ],
   "source": [
    "planetas = ['Marte', 'Mercurio', 'Jupiter', 'Saturno', 'Neptuno', 'Tierra', 'Venus', 'Urano']\n",
    "print(planetas)"
   ]
  },
  {
   "cell_type": "code",
   "execution_count": 51,
   "metadata": {},
   "outputs": [
    {
     "name": "stdout",
     "output_type": "stream",
     "text": [
      "existen 9 planetas\n",
      "El último planeta es Plutón\n"
     ]
    }
   ],
   "source": [
    "planetas.append('Plutón')\n",
    "num_planetas = len(planetas)\n",
    "print('existen', num_planetas, 'planetas')\n",
    "print('El último planeta es', planetas[-1])"
   ]
  },
  {
   "cell_type": "code",
   "execution_count": 52,
   "metadata": {},
   "outputs": [
    {
     "name": "stdout",
     "output_type": "stream",
     "text": [
      "9\n"
     ]
    }
   ],
   "source": [
    "#tambien se puede como en la solución, directo en el print\n",
    "\n",
    "print(len(planetas))"
   ]
  },
  {
   "cell_type": "markdown",
   "metadata": {},
   "source": [
    "# Trabajando con datos de una lista. Ejercicio 2"
   ]
  },
  {
   "cell_type": "code",
   "execution_count": 53,
   "metadata": {},
   "outputs": [
    {
     "name": "stdout",
     "output_type": "stream",
     "text": [
      "kepler, troy270\n"
     ]
    }
   ],
   "source": [
    "# Kepler, Toy270, \n",
    "\n",
    "sistema_solar = input('Intoduzca los nuevos planetas encontrados')\n",
    "print(sistema_solar)"
   ]
  },
  {
   "cell_type": "code",
   "execution_count": 54,
   "metadata": {},
   "outputs": [
    {
     "name": "stdout",
     "output_type": "stream",
     "text": [
      "0\n"
     ]
    }
   ],
   "source": [
    "busqueda = sistema_solar.index('kepler')\n",
    "print(busqueda)"
   ]
  },
  {
   "cell_type": "code",
   "execution_count": 64,
   "metadata": {},
   "outputs": [
    {
     "name": "stdout",
     "output_type": "stream",
     "text": [
      "['kepler', 'troy270', 'Marte', 'Mercurio', 'Jupiter', 'Saturno', 'Neptuno', 'Tierra', 'Venus', 'Urano', 'Plutón']\n",
      "0\n",
      "el plamneta más cercano ['kepler', 'troy270', 'Marte']\n",
      "el planeta más alejado es ['Plutón']\n"
     ]
    }
   ],
   "source": [
    "sistema_solar = ['kepler', 'troy270']\n",
    "all_planets = sistema_solar + planetas\n",
    "print(all_planets)\n",
    "busqueda = sistema_solar.index('kepler')\n",
    "print(busqueda)\n",
    "planets_cerca_sol = all_planets[0:3]\n",
    "print('el plamneta más cercano', planets_cerca_sol)\n",
    "planets_lejos_sol = all_planets[-1:]\n",
    "print('el planeta más alejado es', planets_lejos_sol)\n"
   ]
  }
 ],
 "metadata": {
  "interpreter": {
   "hash": "dc87c7906388df039180427905fc6565294b18b940d6a43ded049253c566ce20"
  },
  "kernelspec": {
   "display_name": "Python 3.10.2 64-bit",
   "language": "python",
   "name": "python3"
  },
  "language_info": {
   "codemirror_mode": {
    "name": "ipython",
    "version": 3
   },
   "file_extension": ".py",
   "mimetype": "text/x-python",
   "name": "python",
   "nbconvert_exporter": "python",
   "pygments_lexer": "ipython3",
   "version": "3.10.2"
  },
  "orig_nbformat": 4
 },
 "nbformat": 4,
 "nbformat_minor": 2
}
