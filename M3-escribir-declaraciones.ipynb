{
 "cells": [
  {
   "cell_type": "markdown",
   "metadata": {},
   "source": [
    "## Lógica Booleana\n",
    "Para expresar la lógica condicional en Python, se utilizan instrucciones if . Cuando escribes una declaración if, confías en otro concepto que cubrimos en este módulo, los operadores matemáticos. Python admite los operadores lógicos comunes de las matemáticas: igual, no igual, menor que, menor que o igual a, mayor que y mayor que o igual a. Probablemente estés acostumbrado a ver estos operadores mostrados usando símbolos, que es la forma en que también se representan en Python.\n",
    "\n",
    "Iguales: a == b\n",
    "\n",
    "No es igual: a != b\n",
    "\n",
    "Menos que: a < b\n",
    "\n",
    "Menor o igual que: a <= b\n",
    "\n",
    "Mayor que: a > b\n",
    "\n",
    "Mayor o igual que: a >= b"
   ]
  },
  {
   "cell_type": "markdown",
   "metadata": {},
   "source": [
    "## Expresiones de prueba\n",
    "\n",
    "Debes usar una instrucción if para ejecutar código solo si se cumple una determinada condición. Lo primero que se hace cuando se escribe una instrucción if es comprobar la condición mediante una expresión de prueba. A continuación, determins si la instrucción evalúa a True (Verdadero) o False (Falso) . Si es True (Verdadero), se ejecuta el siguiente bloque de código con sangría:"
   ]
  },
  {
   "cell_type": "code",
   "execution_count": 3,
   "metadata": {},
   "outputs": [],
   "source": [
    "# if expresion_prueba:\n",
    "    # intrucción(es) a ejecutar\n",
    "\n",
    "a = 97\n",
    "b = 55\n",
    "\n",
    "# test expression / expresión de prueba\n",
    "\n",
    "if a < b:\n",
    "    # statement to be run / instrucción a ejecutar\n",
    "    print(b)"
   ]
  },
  {
   "cell_type": "markdown",
   "metadata": {},
   "source": [
    "En Python, el cuerpo de una instrucción if debe tener sangría . Siempre se ejecutará cualquier código que siga a una expresión de prueba que no tenga sangría:"
   ]
  },
  {
   "cell_type": "code",
   "execution_count": 5,
   "metadata": {},
   "outputs": [
    {
     "name": "stdout",
     "output_type": "stream",
     "text": [
      "93\n"
     ]
    }
   ],
   "source": [
    "a = 93\n",
    "b = 27\n",
    "if a >= b:\n",
    "    print(a)"
   ]
  },
  {
   "cell_type": "markdown",
   "metadata": {},
   "source": [
    "En este ejemplo, el 44 como resultado se debe a que la expresión de prueba es False y la instrucción print(b) no tiene sangría en el mismo nivel que la instrucción if."
   ]
  },
  {
   "cell_type": "code",
   "execution_count": 7,
   "metadata": {},
   "outputs": [
    {
     "name": "stdout",
     "output_type": "stream",
     "text": [
      "44\n"
     ]
    }
   ],
   "source": [
    "a = 24\n",
    "b = 44\n",
    "if a <= 0:\n",
    "    print(a)\n",
    "print(b)"
   ]
  },
  {
   "cell_type": "markdown",
   "metadata": {},
   "source": [
    "## 'else' y 'elif'\n",
    "\n",
    "Python tiene otras palabras clave que puedes usar para hacer declaraciones if más complejas, else y elif . Cuando se utiliza if, else, y elif en combinación, se pueden escribir programas complejos con varias expresiones de prueba y sentencias para ejecutar.\n",
    "\n",
    "Para agregar más código que se ejecutará cuando la expresión de prueba sea False, debes agregar una instrucción else."
   ]
  },
  {
   "cell_type": "markdown",
   "metadata": {},
   "source": [
    "## 'else'\n",
    "\n",
    "En este ejemplo, si la expresión de prueba es False, se omite el código del cuerpo de la instrucción if y el programa continúa ejecutándose desde la instrucción else. La sintaxis de una instrucción if/else es siempre:"
   ]
  },
  {
   "cell_type": "code",
   "execution_count": 8,
   "metadata": {},
   "outputs": [
    {
     "name": "stdout",
     "output_type": "stream",
     "text": [
      "93\n"
     ]
    }
   ],
   "source": [
    "# if expresion_prueba:\n",
    "    # instrucción(es) a ejecutar\n",
    "# else:\n",
    "    # instrucción(es) a ejecutar\n",
    "\n",
    "a = 93\n",
    "b = 27\n",
    "if a >= b:\n",
    "    print(a)\n",
    "else:\n",
    "    print(b)"
   ]
  },
  {
   "cell_type": "markdown",
   "metadata": {},
   "source": [
    "## 'elif'\n",
    "\n",
    "En Python, la palabra clave elif es la abreviatura de else if. El uso de instrucciones elif te permite agregar varias expresiones de prueba al programa. Estas instrucciones se ejecutan en el orden en que están escritas, por lo que el programa ingresará una instrucción elif solo si la primera instrucción if es False . \n",
    "\n",
    "Por ejemplo, la instrucción elif de este bloque de código no se ejecutará, porque la instrucción if es True:"
   ]
  },
  {
   "cell_type": "code",
   "execution_count": 12,
   "metadata": {},
   "outputs": [
    {
     "name": "stdout",
     "output_type": "stream",
     "text": [
      "a es mayor o igual que b\n"
     ]
    }
   ],
   "source": [
    "#if expresion_prueba:\n",
    "    # instrucción(es) a ejecutar\n",
    "#elif expresion_prueba:\n",
    "    # instrucción(es) a ejecutar\n",
    "\n",
    "a = 93\n",
    "b = 27\n",
    "if a >= b:\n",
    "    print(\"a es mayor o igual que b\")\n",
    "elif a == b:\n",
    "    print(\"a es igual que b\")"
   ]
  },
  {
   "cell_type": "markdown",
   "metadata": {},
   "source": [
    "## Combinar declaraciones 'if', 'elif' y 'else'\n",
    "\n",
    "Puedes combinar sentencias if , elif, y else para crear programas con lógica condicional compleja. Recuerda que una instrucción elif sólo se ejecuta cuando la condición if es False. También ten en cuenta que un bloque if puede tener solo un bloque else, pero puede tener varios bloques elif."
   ]
  },
  {
   "cell_type": "code",
   "execution_count": 10,
   "metadata": {},
   "outputs": [
    {
     "name": "stdout",
     "output_type": "stream",
     "text": [
      "a es mayor que b\n"
     ]
    }
   ],
   "source": [
    "#if expresion_prueba:\n",
    "    # instrucción(es) a ejecutar\n",
    "#elif expresion_prueba:\n",
    "    # instrucción(es) a ejecutar\n",
    "#elif expresion_prueba:\n",
    "    # instrucción(es) a ejecutar\n",
    "#else:\n",
    "    # instrucción(es) a ejecutar\n",
    "\n",
    "a = 93\n",
    "b = 27\n",
    "if a > b:\n",
    "    print(\"a es mayor que b\")\n",
    "elif a < b:\n",
    "    print(\"a es menor que b\")\n",
    "else: \n",
    "    print (\"a es igual que b\")"
   ]
  },
  {
   "cell_type": "markdown",
   "metadata": {},
   "source": [
    "## Trabajar con lògica condicional anidada\n",
    "\n",
    "Python también admite lógica condicional anidada, lo que significa que puedes anidar sentencias if , elif, y else, para crear programas aún más complejos. Para anidar condiciones, indenta las condiciones internas y todo lo que esté en el mismo nivel de sangría se ejecutará en el mismo bloque de código:"
   ]
  },
  {
   "cell_type": "code",
   "execution_count": 13,
   "metadata": {},
   "outputs": [
    {
     "name": "stdout",
     "output_type": "stream",
     "text": [
      "a es menor que b\n"
     ]
    }
   ],
   "source": [
    "# if expresion_prueba:\n",
    "    # instrucción(es) a ejecutar\n",
    "    # if expresion_prueba:\n",
    "        # instrucción(es) a ejecutar\n",
    "    # else: \n",
    "        # instrucción(es) a ejecutar\n",
    "# elif expresion_prueba:\n",
    "    # instrucción(es) a ejecutar\n",
    "    # if expresion_prueba:\n",
    "        # instrucción(es) a ejecutar\n",
    "    # else: \n",
    "        # instrucción(es) a ejecutar\n",
    "# else:\n",
    "    # instrucción(es) a ejecutar\n",
    "\n",
    "a = 16\n",
    "b = 25\n",
    "c = 27\n",
    "if a > b:\n",
    "    if b > c:\n",
    "        print (\"a es mayor que b y b es mayor que c\")\n",
    "    else: \n",
    "        print (\"a es mayor que b y menor que c\")\n",
    "elif a == b:\n",
    "    print (\"a es igual que b\")\n",
    "else:\n",
    "    print (\"a es menor que b\")"
   ]
  },
  {
   "cell_type": "markdown",
   "metadata": {},
   "source": [
    "## Operadores 'ar' y 'or'\n",
    "\n",
    "Es posible que ocasionalmente desees combinar expresiones de prueba para evaluar varias condiciones if , elif, y else en una instrucción. Para ello, utilizaremos los operadores booleanos and y or.\n",
    "\n",
    "## Operador 'or'\n",
    "\n",
    "Puede conectar dos expresiones booleanas o de prueba mediante el operador booleano or. Para que toda la expresión se evalúe en True, al menos una de las subexpresiones debe ser verdadera. Si ninguna de las subexpresiones es verdadera, toda la expresión se evalúa en False. Por ejemplo, en la siguiente expresión, toda la expresión de prueba se evalúa en True, porque se ha cumplido una de las condiciones de las subexpresiones:"
   ]
  },
  {
   "cell_type": "code",
   "execution_count": 15,
   "metadata": {},
   "outputs": [
    {
     "name": "stdout",
     "output_type": "stream",
     "text": [
      "57\n"
     ]
    }
   ],
   "source": [
    "# subexpresión1 or subexpresión2\n",
    "\n",
    "a = 23\n",
    "b = 34\n",
    "if a == 34 or b == 34:\n",
    "    print(a + b)"
   ]
  },
  {
   "cell_type": "markdown",
   "metadata": {},
   "source": [
    "## Operador 'and'\n",
    "\n",
    "También puedes conectar dos expresiones de prueba mediante el operador booleano and.\n",
    "\n",
    "Ambas condiciones de la expresión de prueba deben ser verdaderas para que toda la expresión de prueba se evalúe en True. En cualquier otro caso, la expresión de prueba es False. En el ejemplo siguiente, toda la expresión de prueba se evalúa en False, porque sólo una de las condiciones de las subexpresiones es True:"
   ]
  },
  {
   "cell_type": "code",
   "execution_count": 16,
   "metadata": {},
   "outputs": [],
   "source": [
    "# subexpresión1 and subexpresión2\n",
    "\n",
    "a = 23\n",
    "b = 34\n",
    "if a == 34 and b == 34:\n",
    "    print (a + b)"
   ]
  },
  {
   "cell_type": "markdown",
   "metadata": {},
   "source": [
    "## Diferencia entre 'and' y 'or'\n",
    "\n",
    "Para resaltar la diferencia entre los dos operadores booleanos, puedes utilizar una tabla de verdad. Una tabla de verdad muestra a qué se evalúa toda la expresión de prueba en función de las dos subexpresiones.\n",
    "\n",
    "Aquí está la tabla de la verdad para: and\n",
    "\n",
    "subexpresión1   |\tsubexpresión2  | \tResultado\n",
    "\n",
    "True\t       \t        True\t      True\n",
    "\n",
    "True\t\tFalse\tFalse\n",
    "\n",
    "False\t\tTrue\tFalse\n",
    "\n",
    "False\t\tFalse\tFalse\n",
    "\n",
    "Aquí está la tabla de la verdad para: or\n",
    "\n",
    "subexpresión1\tsubexpresión2\tResultado\n",
    "\n",
    "True\t\tTrue\tTrue\n",
    "\n",
    "True\t\tFalse\tTrue\n",
    "\n",
    "False\t\tTrue\tTrue\n",
    "\n",
    "False\t\tFalse\tFalse"
   ]
  }
 ],
 "metadata": {
  "interpreter": {
   "hash": "229091e6d413d8abaae29bf1214a033623ca0d6c36f8bb9b7278440d35bd967d"
  },
  "kernelspec": {
   "display_name": "Python 3.10.2 64-bit (windows store)",
   "language": "python",
   "name": "python3"
  },
  "language_info": {
   "codemirror_mode": {
    "name": "ipython",
    "version": 3
   },
   "file_extension": ".py",
   "mimetype": "text/x-python",
   "name": "python",
   "nbconvert_exporter": "python",
   "pygments_lexer": "ipython3",
   "version": "3.10.2"
  },
  "orig_nbformat": 4
 },
 "nbformat": 4,
 "nbformat_minor": 2
}
