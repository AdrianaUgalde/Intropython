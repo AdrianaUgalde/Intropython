{
 "cells": [
  {
   "cell_type": "markdown",
   "metadata": {},
   "source": [
    "## Ciclos while & for\n",
    "\n",
    "Como desarrollador, a menudo tendrás que recorrer en ciclo secuencias de valores, como cadenas, números y objetos. Python proporciona dos mecanismos para realizar estas tareas: ciclos while y for.\n",
    "\n",
    "## While\n",
    "\n",
    "El usuario escribirá una lista de nombres de planetas. Desafortunadamente. Para admitir una entrada de usuario o ejecutar una tarea, un número desconocido de veces, puedes usar un ciclo while.\n",
    "\n",
    "Un ciclo while realiza una operación while una determinada condición es True. Funcionan para evaluar si hay otra línea en un archivo, si se ha establecido una marca, si un usuario ha terminado de escribir valores o bien ha cambiado algo más para indicar que el código puede dejar de realizar la operación.\n",
    "\n",
    "Lo más importante que se debe recordar al crear ciclos while es asegurarse de que cambia la condición. Si la condición siempre es True, Python seguirá ejecutando el código hasta que el programa se bloquee.\n",
    "\n",
    "La sintaxis de un ciclo while es similar a la de una instrucción if. Proporciona una condición, así como el código que quieres ejecutar mientras la condición sea True (Oséa, mientras la condición se cumpla o sea verdadera).\n",
    "\n",
    "Un ciclo while tiene tres partes importantes:\n",
    "\n",
    "* La palabra while, seguida de un espacio.\n",
    "\n",
    "* La condición que se va a probar. Si la condición es True, se ejecutará el código dentro del ciclo while.\n",
    "\n",
    "* El código que quiere ejecutar para cada elemento del objeto iterable, seguido de espacios en blanco anidados. \n",
    "\n",
    "Pedir a los usuarios que escriban valores y, después, permitirles usar done cuando terminen de escribir los valores. La entrada de usuario se usará como condición y, después, la probaremos al principio del ciclo while.\n",
    "\n",
    "Cada vez que los usuarios escriben un nuevo valor, cambian la condición, lo que significa que el ciclo while se finalizará una vez que se haya escrito la palabra done, si escribes cualquier otra palabra el ciclo continuará.\n",
    "\n",
    "Puedes usar la cadena recién escrita como lo haríamos con cualquier otra cadena capturada con input."
   ]
  },
  {
   "cell_type": "code",
   "execution_count": 9,
   "metadata": {},
   "outputs": [
    {
     "name": "stdout",
     "output_type": "stream",
     "text": [
      "done\n"
     ]
    }
   ],
   "source": [
    "#while condition:\n",
    "    # lo que quieres que se ejecute\n",
    "\n",
    "\n",
    "\n",
    "\n",
    "# Definimos la variable user_input (Para guardar lo que el usuario va a escribir)\n",
    "\n",
    "# mientras(while) lo que el usuario escriba(user_input), convertido a minúsculas(.lower()) sea diferente de(!=) la palabra 'done' quiero que: \n",
    "    # Guardes en la variable user_input(user_input =), lo que el usuario escriba (input), muestra un texto de ejemplo para el usuario('Enter a new value, or done when done').\n",
    "\n",
    "\n",
    "\n",
    "# Creamos la variable que almacena el texto\n",
    "user_input = ''\n",
    "# Creamos la lista que almacena cada uno de los textos que el usuario ingresa\n",
    "inputs = []\n",
    "\n",
    "# Ciclo while\n",
    "while user_input.lower() != 'done':\n",
    "    # Verificamos si hay un valor en user_input\n",
    "    if user_input:\n",
    "        # Almacenamos ese valor en la lista\n",
    "        inputs.append(user_input)\n",
    "    # Capturamos un nuevo valor\n",
    "    user_input = input('Enter a new value, or done when done')\n",
    "\n",
    "print(user_input)\n",
    "\n",
    "\n"
   ]
  },
  {
   "cell_type": "markdown",
   "metadata": {},
   "source": [
    "Observa la instrucción if dentro del ciclo while. Esta instrucción prueba si hay un valor de cadena dentro de user_input. Si el ciclo while se ejecuta por primera vez, no hay ningún valor, por lo que no hay nada que almacenar en inputs. Después de que se ejecute por primera vez, user_input siempre conserva el valor que el usuario acaba de escribir. Dado que while está probando para asegurarse de que el valor no es igual a done (la palabra que el usuario escribirá para salir de la aplicación), sabe que el valor actual es uno que puede agregar a la lista."
   ]
  },
  {
   "cell_type": "markdown",
   "metadata": {},
   "source": [
    "## Uso de ciclos for con listas\n",
    "\n",
    "En Python, las listas pueden almacenar cualquier tipo de valor, como cadenas o números.\n",
    "\n",
    "Puedes acceder a cualquier elemento de una lista poniendo el índice entre corchetes ([]) después del nombre de la variable. Los índices comienzan a partir de 0:\n",
    "\n",
    "También puede determinar el número de elementos de una lista mediante len. Por lo tanto, podría usar un ciclo while y un contador para recorrer en ciclo o en iteración cada elemento de la lista. Dado que se trata de una operación tan común, Python proporciona ciclos for, que puedes usar para recorrer en iteración las listas.\n",
    "\n",
    "Python tiene muchos tipos que se pueden recorrer en ciclo. Estos tipos se conocen como iterables.\n",
    "\n",
    "Las listas de Python son iterables y se pueden usar con un ciclo for. Se usa un ciclo for con objetos iterables que va a recorrer en ciclo un número conocido de veces, una vez para cada elemento del objeto iterable."
   ]
  },
  {
   "cell_type": "code",
   "execution_count": 4,
   "metadata": {},
   "outputs": [
    {
     "name": "stdout",
     "output_type": "stream",
     "text": [
      "The first planet is  Mercury\n",
      "The second planet is  Venus\n",
      "The third planet is  Earth\n"
     ]
    }
   ],
   "source": [
    "planets = [\"Mercury\", \"Venus\", \"Earth\", \"Mars\", \"Jupiter\", \"Saturn\", \"Uranus\", \"Neptune\"]\n",
    "\n",
    "print(\"The first planet is \", planets[0])\n",
    "print(\"The second planet is \", planets[1])\n",
    "print(\"The third planet is \", planets[2])"
   ]
  },
  {
   "cell_type": "markdown",
   "metadata": {},
   "source": [
    "## For\n",
    "\n",
    "El ciclo for es una instrucción con cinco partes importantes:\n",
    "\n",
    "* La palabra for, seguida de un espacio.\n",
    "* El nombre de la variable que quieres crear para cada valor de la secuencia (number).\n",
    "* La palabra in, entre espacios.\n",
    "* El nombre de la lista (countdown, en el ejemplo anterior) u objeto iterable que quieres recorrer en ciclo, seguido de dos puntos (:).\n",
    "* El código que quieres ejecutar para cada elemento del objeto iterable, separado por espacios en blanco anidados.\n",
    "\n",
    "Este es un ciclo for de ejemplo que hace una cuenta atrás, de 4 a 0:"
   ]
  },
  {
   "cell_type": "code",
   "execution_count": 5,
   "metadata": {},
   "outputs": [
    {
     "name": "stdout",
     "output_type": "stream",
     "text": [
      "4\n",
      "3\n",
      "2\n",
      "1\n",
      "0\n",
      "Blast off!! 🚀\n"
     ]
    }
   ],
   "source": [
    "countdown = [4, 3, 2, 1, 0]\n",
    "for number in countdown:\n",
    "    print(number)\n",
    "print(\"Blast off!! 🚀\")"
   ]
  },
  {
   "cell_type": "markdown",
   "metadata": {},
   "source": [
    "## función sleep ( ):\n",
    "\n",
    "Vamos a cambiar el código anterior para que espere un segundo entre cada número mediante la función sleep():\n",
    "\n",
    "La mayoría del código de Python usa cuatro espacios como la unidad del espacio en blanco (sangría). Para ahorrar tener que presionar la barra espaciadora cuatro veces, la mayoría de los editores tienen una función rápida de teclado con la tecla Tab, que inserta cuatro espacios."
   ]
  },
  {
   "cell_type": "code",
   "execution_count": 7,
   "metadata": {},
   "outputs": [
    {
     "name": "stdout",
     "output_type": "stream",
     "text": [
      "4\n",
      "3\n",
      "2\n",
      "1\n",
      "0\n",
      "Blast off!! 🚀\n"
     ]
    }
   ],
   "source": [
    "# De la biblioteca time, importamos (traemos) la clase sleep\n",
    "\n",
    "from time import sleep\n",
    "\n",
    "# Creamos una lista de 5 números llamada countdown\n",
    "countdown = [4, 3, 2, 1, 0]\n",
    "\n",
    "# Para cada número en countdown\n",
    "for number in countdown:\n",
    "    #Muestra el número\n",
    "    print(number)\n",
    "\n",
    "    # Espera (1segundo)\n",
    "    sleep(1)\n",
    "\n",
    "# Muestra el mensaje Blast off\n",
    "print(\"Blast off!! 🚀\")"
   ]
  }
 ],
 "metadata": {
  "interpreter": {
   "hash": "dc87c7906388df039180427905fc6565294b18b940d6a43ded049253c566ce20"
  },
  "kernelspec": {
   "display_name": "Python 3.10.2 64-bit",
   "language": "python",
   "name": "python3"
  },
  "language_info": {
   "codemirror_mode": {
    "name": "ipython",
    "version": 3
   },
   "file_extension": ".py",
   "mimetype": "text/x-python",
   "name": "python",
   "nbconvert_exporter": "python",
   "pygments_lexer": "ipython3",
   "version": "3.10.2"
  },
  "orig_nbformat": 4
 },
 "nbformat": 4,
 "nbformat_minor": 2
}
