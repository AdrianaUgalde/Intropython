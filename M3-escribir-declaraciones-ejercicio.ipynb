{
 "cells": [
  {
   "cell_type": "code",
   "execution_count": null,
   "metadata": {},
   "outputs": [],
   "source": []
  },
  {
   "cell_type": "markdown",
   "metadata": {},
   "source": [
    "## Uso de operadores 'and' y 'or'\n",
    "\n",
    "Las instrucciones If te permiten ejecutar condicionalmente código Python. Se usan comúnmente en Python para \"tomar decisiones\" sobre lo que debería suceder a continuación mientras se ejecuta un programa.\n",
    "\n",
    "Para crear una instrucción if en Python, define una expresión de prueba que pueda tener un valor True o False, seguido de un bloque de código con sangría que se ejecutará si se cumple la condición.\n",
    "\n",
    "Para este ejercicio, escribirás una lógica condicional que imprima una advertencia si un asteroide se acerca a la Tierra demasiado rápido. La velocidad del asteroide varía dependiendo de lo cerca que esté del sol, y cualquier velocidad superior a 25 kilómetros por segundo (km/s) merece una advertencia.\n",
    "\n",
    "Un asteroide se acerca, y viaja a una velocidad de 49 km/s.\n"
   ]
  },
  {
   "cell_type": "code",
   "execution_count": 1,
   "metadata": {},
   "outputs": [],
   "source": [
    "# Añadir el código necesario para crear una variable que guarde la velocidad del asteroide.\n",
    "# Escribe una expresión de prueba para calcular si necesita una advertencia.\n",
    "# Agregue las instrucciones que se ejecutarán si la expresión de prueba es true o false."
   ]
  },
  {
   "cell_type": "markdown",
   "metadata": {},
   "source": [
    "Si un asteroide entra en la atmósfera de la Tierra a una velocidad mayor o igual a 20 km/s, a veces produce un rayo de luz que se puede ver desde la Tierra. Escribe la lógica condicional que usa declaraciones if, else, y elif para alertar a las personas de todo el mundo que deben buscar un asteroide en el cielo. ¡Hay uno que se dirige a la tierra ahora a una velocidad de 19 km/s!"
   ]
  },
  {
   "cell_type": "code",
   "execution_count": 2,
   "metadata": {},
   "outputs": [],
   "source": [
    "# Agrega el código para crear una variable para un asteroide que viaja a 19 km/s\n",
    "# Escribe varias expresiones de prueba para determinar si puedes ver el rayo de luz desde la tierra\n",
    "# Agrega las instrucciones que se ejecutarán si las expresiones de prueba son True o False"
   ]
  },
  {
   "cell_type": "code",
   "execution_count": 5,
   "metadata": {},
   "outputs": [
    {
     "name": "stdout",
     "output_type": "stream",
     "text": [
      "Un asteroide se acerca a la tievelocidades peligrosas\n"
     ]
    }
   ],
   "source": [
    "# if expresion_prueba:\n",
    "    # intrucción(es) a ejecutar\n",
    "    # if expresion_prueba:\n",
    "        # intrucción(es) a ejecutar\n",
    "    # else: \n",
    "        # intrucción(es) a ejecutar\n",
    "# elif expresion_prueba:\n",
    "    # intrucción(es) a ejecutar\n",
    "# else:\n",
    "    # intrucción(es) a ejecutar\n",
    "\n",
    "asteroide = 49\n",
    "\n",
    "if asteroide > 25:\n",
    "    print('Un asteroide se acerca a la tievelocidades peligrosas')\n",
    "else:\n",
    "    print('¡Sigue con tu día!')"
   ]
  },
  {
   "cell_type": "code",
   "execution_count": 10,
   "metadata": {},
   "outputs": [
    {
     "name": "stdout",
     "output_type": "stream",
     "text": [
      "Un asteroide podría chocar contra la tierra ¡Busque un lugar seguro!\n"
     ]
    }
   ],
   "source": [
    "vel_asteroide = 65\n",
    "tam_asteroide = 25\n",
    "\n",
    "if vel_asteroide > 25 or tam_asteroide > 25:\n",
    "    print('Un asteroide podría chocar contra la tierra ¡Busque un lugar seguro!')\n",
    "elif vel_asteroide < 25:\n",
    "    print('Hoy se podrá ver un fenomeno hermoso, pasara una asteroide')\n",
    "elif tam_asteroide < 25:\n",
    "    print('Hoy se podrá ver un fenomeno hermoso, pasara una asteroide')\n",
    "else:\n",
    "    print('¡Que buen día!')\n",
    "    "
   ]
  },
  {
   "cell_type": "code",
   "execution_count": 13,
   "metadata": {},
   "outputs": [
    {
     "name": "stdout",
     "output_type": "stream",
     "text": [
      "Ningun fenomeno habrá para observar este día\n"
     ]
    }
   ],
   "source": [
    "ray_luz = 34\n",
    "\n",
    "if ray_luz >= 20:\n",
    "    print('¡Hoy se observara un asteroide. Vea a las estrellas encontrará un hermoso rayo de luz!')\n",
    "else:\n",
    "    print('Ningun fenomeno habrá para observar este día')"
   ]
  }
 ],
 "metadata": {
  "interpreter": {
   "hash": "229091e6d413d8abaae29bf1214a033623ca0d6c36f8bb9b7278440d35bd967d"
  },
  "kernelspec": {
   "display_name": "Python 3.10.2 64-bit (windows store)",
   "language": "python",
   "name": "python3"
  },
  "language_info": {
   "codemirror_mode": {
    "name": "ipython",
    "version": 3
   },
   "file_extension": ".py",
   "mimetype": "text/x-python",
   "name": "python",
   "nbconvert_exporter": "python",
   "pygments_lexer": "ipython3",
   "version": "3.10.2"
  },
  "orig_nbformat": 4
 },
 "nbformat": 4,
 "nbformat_minor": 2
}
